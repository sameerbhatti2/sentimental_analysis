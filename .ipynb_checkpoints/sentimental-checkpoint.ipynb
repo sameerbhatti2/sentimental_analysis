{
 "cells": [
  {
   "cell_type": "markdown",
   "id": "a9c0c1b2",
   "metadata": {},
   "source": [
    "# sentimental bag of words"
   ]
  },
  {
   "cell_type": "code",
   "execution_count": 14,
   "id": "a2d85d41",
   "metadata": {},
   "outputs": [],
   "source": [
    "import pandas as pd\n",
    "from sklearn import svm, metrics\n",
    "from sklearn.feature_extraction.text import CountVectorizer\n",
    "import json\n",
    "import pickle"
   ]
  },
  {
   "cell_type": "markdown",
   "id": "d7a2cd43",
   "metadata": {},
   "source": [
    "#### Create Pd Dataset From JSON "
   ]
  },
  {
   "cell_type": "code",
   "execution_count": 2,
   "id": "aef0c0da",
   "metadata": {},
   "outputs": [],
   "source": [
    "reviews = []\n",
    "ratings = []\n",
    "with open('./Books_small_10000.json','r') as f:\n",
    "    for line in f:\n",
    "        review = json.loads(line)\n",
    "        ratings.append(review['overall'])\n",
    "        reviews.append(review['reviewText'])\n",
    "# ratings = list(map(lambda x: float(x),ratings))"
   ]
  },
  {
   "cell_type": "code",
   "execution_count": 3,
   "id": "7e2fa554",
   "metadata": {},
   "outputs": [
    {
     "name": "stdout",
     "output_type": "stream",
     "text": [
      "                                              reviews  ratings sentiment\n",
      "0   I bought both boxed sets, books 1-5.  Really a...      5.0  POSITIVE\n",
      "1   I enjoyed this short book. But it was way way ...      3.0  NEGITIVE\n",
      "2   I love Nicholas Sparks. I&#8217;ve read everyt...      4.0  NEGITIVE\n",
      "3   I really enjoyed this adventure and look forwa...      4.0  NEGITIVE\n",
      "4   It was a decent read.. typical story line. Not...      3.0  NEGITIVE\n",
      "5   I hoped for Mia to have some peace in this boo...      5.0  POSITIVE\n",
      "6   The book has the fevered intensity of Oliver S...      2.0  NEGITIVE\n",
      "7   This is the First book in the Trilogy, and I'm...      5.0  POSITIVE\n",
      "8   After reading the other book about introvert p...      5.0  POSITIVE\n",
      "9   I really, really like this book because the he...      5.0  POSITIVE\n",
      "10  My only complaint about this book is that it i...      4.0  NEGITIVE\n",
      "11  I think because I love Claire and Chris so muc...      4.0  NEGITIVE\n",
      "12  This mystery involved twin brothers born to a ...      4.0  NEGITIVE\n",
      "13  This is a awesome little novella that goes wit...      5.0  POSITIVE\n",
      "14  Jussi Adler-Olsen does it again bringing just ...      5.0  POSITIVE\n",
      "15  Everyone is doing zombies these days. Here is ...      4.0  NEGITIVE\n",
      "16  Jaguar Hunt is the third book in the Heart of ...      4.0  NEGITIVE\n",
      "17  Aria Valencia is an aspiring pianist still att...      5.0  POSITIVE\n",
      "18  It was a peak into what it was like . I am sur...      4.0  NEGITIVE\n",
      "19  I have just loved each and every book in the m...      5.0  POSITIVE\n"
     ]
    }
   ],
   "source": [
    "data_analysis = pd.DataFrame({'reviews':reviews,'ratings':ratings})\n",
    "data_analysis['sentiment'] = list(map(lambda x: 'POSITIVE' if x > 4 else 'NEGITIVE', list(data_analysis['ratings'])))\n",
    "print(data_analysis.head(20))"
   ]
  },
  {
   "cell_type": "markdown",
   "id": "b1e4a56a",
   "metadata": {},
   "source": [
    "# train_test_split"
   ]
  },
  {
   "cell_type": "code",
   "execution_count": 4,
   "id": "20d62390",
   "metadata": {},
   "outputs": [],
   "source": [
    "from sklearn.model_selection import train_test_split"
   ]
  },
  {
   "cell_type": "code",
   "execution_count": 5,
   "id": "0f974716",
   "metadata": {},
   "outputs": [],
   "source": [
    "X = data_analysis['reviews']\n",
    "y = data_analysis['sentiment']\n",
    "\n",
    "X_train, X_test, y_train, y_test = train_test_split(X, y, test_size=0.03, random_state=42)"
   ]
  },
  {
   "cell_type": "markdown",
   "id": "971a07d0",
   "metadata": {},
   "source": [
    "# Bag Of Words"
   ]
  },
  {
   "cell_type": "code",
   "execution_count": 16,
   "id": "1f5c4af7",
   "metadata": {},
   "outputs": [],
   "source": [
    "vectorizer = CountVectorizer()\n",
    "X_train_vectors = vectorizer.fit_transform(X_train) # give array in input\n",
    "X_test_vectors = vectorizer.transform(X_test) # give array in input"
   ]
  },
  {
   "cell_type": "markdown",
   "id": "cdf178c5",
   "metadata": {},
   "source": [
    "# SVM"
   ]
  },
  {
   "cell_type": "code",
   "execution_count": 8,
   "id": "fcf54789",
   "metadata": {},
   "outputs": [
    {
     "data": {
      "text/plain": [
       "<bound method ClassifierMixin.score of SVC(kernel='linear')>"
      ]
     },
     "execution_count": 8,
     "metadata": {},
     "output_type": "execute_result"
    }
   ],
   "source": [
    "model = svm.SVC(kernel='linear')\n",
    "model.fit(X_train_vectors, y_train)\n",
    "pred = model.predict(X_test_vectors)\n",
    "model.score"
   ]
  },
  {
   "cell_type": "markdown",
   "id": "d55a0275",
   "metadata": {},
   "source": [
    "# Metrics Score"
   ]
  },
  {
   "cell_type": "code",
   "execution_count": 9,
   "id": "42d98ff4",
   "metadata": {},
   "outputs": [
    {
     "data": {
      "text/plain": [
       "0.69"
      ]
     },
     "execution_count": 9,
     "metadata": {},
     "output_type": "execute_result"
    }
   ],
   "source": [
    "accr = metrics.accuracy_score(pred, y_test)\n",
    "accr"
   ]
  },
  {
   "cell_type": "markdown",
   "id": "db69f703",
   "metadata": {},
   "source": [
    "# Saving Model with pickle"
   ]
  },
  {
   "cell_type": "code",
   "execution_count": 10,
   "id": "f72af5bd",
   "metadata": {},
   "outputs": [],
   "source": [
    "with open('model.pkl','wb') as f:\n",
    "    pickle.dump(model,f)"
   ]
  },
  {
   "cell_type": "code",
   "execution_count": 11,
   "id": "09f5c7a4",
   "metadata": {},
   "outputs": [],
   "source": [
    "with open('model.pkl','rb') as f:\n",
    "    model_pkl = pickle.load(f)"
   ]
  },
  {
   "cell_type": "markdown",
   "id": "bdf17778",
   "metadata": {},
   "source": [
    "# Function for review prediction "
   ]
  },
  {
   "cell_type": "code",
   "execution_count": 18,
   "id": "8162b05c",
   "metadata": {},
   "outputs": [
    {
     "name": "stdout",
     "output_type": "stream",
     "text": [
      "REVIEW bad\n",
      "Your review is NEGITIVE\n"
     ]
    }
   ],
   "source": [
    "def give_review(st = str(input('REVIEW '))):\n",
    "    vec = vectorizer.transform([st]) # only input array\n",
    "    pred = model_pkl.predict(vec)\n",
    "    print(f\"Your review is {pred[0]}\")\n",
    "give_review()"
   ]
  },
  {
   "cell_type": "code",
   "execution_count": null,
   "id": "ad158aad",
   "metadata": {},
   "outputs": [],
   "source": []
  }
 ],
 "metadata": {
  "kernelspec": {
   "display_name": "Python 3 (ipykernel)",
   "language": "python",
   "name": "python3"
  },
  "language_info": {
   "codemirror_mode": {
    "name": "ipython",
    "version": 3
   },
   "file_extension": ".py",
   "mimetype": "text/x-python",
   "name": "python",
   "nbconvert_exporter": "python",
   "pygments_lexer": "ipython3",
   "version": "3.10.8"
  },
  "vscode": {
   "interpreter": {
    "hash": "f92b2924b84ff19c1c3dc485f7644d4486f64738191026bf8e6de303969141b5"
   }
  }
 },
 "nbformat": 4,
 "nbformat_minor": 5
}
